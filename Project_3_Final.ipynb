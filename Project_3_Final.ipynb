{
  "cells": [
    {
      "cell_type": "markdown",
      "metadata": {
        "id": "Tbfz3zSXBt3H"
      },
      "source": [
        "Created by: Joel Nail & Alex Yu\n",
        "\n",
        "# <p style=\"text-align: center;\">MIS 284N - Big Data and Distributed Programming</p>\n",
        "## <p style=\"text-align: center;\">Project 3 - Machine Learning using Tensorflow and Google Colab</p>\n",
        "## <p style=\"text-align: center;\">Total points: 100</p>\n",
        "## <p style=\"text-align: center;\">Due: Saturday, October 15th submitted via Canvas by 11:59 pm</p>\n",
        "\n",
        "This will be a in-class project done in teams of 2. \n",
        "\n",
        "In this Project, we will work with CIFAR10 image dataset. \n",
        "The starter code to download the database using keras is given below. \n",
        "Test the project on Google Colab running on a CPU, GPU and TPU\n",
        " \n",
        "\n",
        "# In every line of code, please write a comment to briefly explain what that line is doing.\n",
        "Your grades will be based on your understanding of the code you write! \n"
      ]
    },
    {
      "cell_type": "markdown",
      "metadata": {
        "id": "RnHTzAuvxxQT"
      },
      "source": [
        "# Task 1\n",
        "Convert the features in a form that can be given as input to tensorflow library/functions\n",
        "\n",
        "In this task you will perform data augmentation. That is, pre-process the data to make the model more robust. Experiment with data augmentation techniques like rotation, translation, horizontal-flip, scaling, ZCA whitening and histogram equalization. \n",
        "You can choose any two or more augmentation technique(s) of your choice. "
      ]
    },
    {
      "cell_type": "code",
      "source": [
        "# importing necessary libraries\n",
        "import tensorflow as tf\n",
        "import numpy as np\n",
        "\n",
        "import distutils\n",
        "if distutils.version.LooseVersion(tf.__version__) < '1.14':\n",
        "    raise Exception('This notebook is compatible with TensorFlow 1.14 or higher, for TensorFlow 1.13 or lower please use the previous version at https://github.com/tensorflow/tpu/blob/r1.13/tools/colab/fashion_mnist.ipynb')\n"
      ],
      "metadata": {
        "id": "X292oEZ32BA_"
      },
      "execution_count": 1,
      "outputs": []
    },
    {
      "cell_type": "code",
      "execution_count": 4,
      "metadata": {
        "id": "LQvjBuuyxblF",
        "colab": {
          "base_uri": "https://localhost:8080/"
        },
        "outputId": "aa7bd477-f278-4571-c54e-b9c121219788"
      },
      "outputs": [
        {
          "output_type": "stream",
          "name": "stdout",
          "text": [
            "Downloading data from https://www.cs.toronto.edu/~kriz/cifar-10-python.tar.gz\n",
            "170498071/170498071 [==============================] - 3s 0us/step\n"
          ]
        }
      ],
      "source": [
        "from keras.datasets import cifar10 # importing the cifar10 dataset\n",
        "import matplotlib.pyplot as plt # importing pyplot in order to display images and graphs\n",
        "import random # importing random in order to display random images\n",
        "%matplotlib inline # ensure that images and plots stay in the notebook\n",
        "\n",
        "(x_train, y_train), (x_test, y_test) = cifar10.load_data() # loading our train and test sets"
      ]
    },
    {
      "cell_type": "markdown",
      "source": [
        "**Just a little test to see what the images look like**"
      ],
      "metadata": {
        "id": "tE0vxIr4kFmw"
      }
    },
    {
      "cell_type": "code",
      "source": [
        "# selecting a random value between 0 and 100\n",
        "val = random.randint(0,100)\n",
        "# selecting a random image from the dataset to display\n",
        "image0 = x_train[val]\n",
        "# printing the shape of the image\n",
        "# print(image0.shape) \n",
        "\n",
        "plt.imshow(image0) # displaying the image\n",
        "print(int(y_train[val])) # printing the label of the image"
      ],
      "metadata": {
        "colab": {
          "base_uri": "https://localhost:8080/",
          "height": 284
        },
        "id": "pUISNej125Sp",
        "outputId": "1919caa4-a4f3-44f6-cff6-57851f044704"
      },
      "execution_count": null,
      "outputs": [
        {
          "output_type": "stream",
          "name": "stdout",
          "text": [
            "6\n"
          ]
        },
        {
          "output_type": "display_data",
          "data": {
            "text/plain": [
              "<Figure size 432x288 with 1 Axes>"
            ],
            "image/png": "[encoded data removed]"
          },
          "metadata": {
            "needs_background": "light"
          }
        }
      ]
    },
    {
      "cell_type": "markdown",
      "source": [
        "**Performing data augmentation**"
      ],
      "metadata": {
        "id": "p9VMrCgRxirE"
      }
    },
    {
      "cell_type": "code",
      "source": [
        "# Big shoutout to Moritz Hambach's CIFAR GitHub project which provided me with \n",
        "# the inspiration for the following augmentation code\n",
        "from keras.preprocessing.image import ImageDataGenerator\n",
        "\n",
        "# aug1: horizontal flip=True, rotation range=10\n",
        "# aug2: horizontal flip=True, rotation range=25\n",
        "# aug3: horizontal_flip=True, rotation_range=25, zca_whitening=True - NO GOOD\n",
        "\n",
        "# the below code defines ImageDataGenerator objects which will be used to augment our data\n",
        "# I have decided to implement several augmentation configurations to test multiple augmentation combinations\n",
        "\n",
        "dataAug1 = ImageDataGenerator(\n",
        "    horizontal_flip=True,\n",
        "    rotation_range=10\n",
        ")\n",
        "\n",
        "# this was the best set of augmentations from my experiments\n",
        "# this image data generator will randomly apply the below augmentations to our dataset\n",
        "dataAug2 = ImageDataGenerator(\n",
        "    horizontal_flip=True,\n",
        "    rotation_range=25,\n",
        "    width_shift_range=0.1,\n",
        "    height_shift_range=0.1\n",
        ")\n",
        "\n",
        "# going all out here - didn't get great results from it\n",
        "dataAug3 = ImageDataGenerator(\n",
        "    horizontal_flip=True,\n",
        "    rotation_range=25,\n",
        "    #zca_whitening=True,\n",
        "    width_shift_range=0.1,\n",
        "    height_shift_range=0.1\n",
        ")\n",
        "\n",
        "dataAug2.fit(x_train) # fitting the model to our training set"
      ],
      "metadata": {
        "id": "6M6VX-hgkOEE"
      },
      "execution_count": null,
      "outputs": []
    },
    {
      "cell_type": "markdown",
      "source": [
        "**Visualizing the transformations**"
      ],
      "metadata": {
        "id": "-Irh1jLLxfF6"
      }
    },
    {
      "cell_type": "code",
      "source": [
        "# displaying the first image in the training set before augmentation\n",
        "image0 = x_train[0] # grabbing first image\n",
        "plt.imshow(image0) # displaying image\n",
        "plt.title(\"Non-Augmented\") # giving the image a title\n",
        "plt.show() # ensuring the image shows\n",
        "\n",
        "# displaying the first image in the training set after augmentation\n",
        "# i'm not sure why I had to put this in a for loop to get it to work\n",
        "# i think it is because the .flow method returns an iterator, but i'm not sure\n",
        "# turning shuffle to False so that we get the first image from the set\n",
        "for x_demo, y_demo in dataAug2.flow(x_train, y_train, batch_size=3, shuffle=False):\n",
        "  for i in range(0, 1):\n",
        "    plt.imshow(x_demo[i].astype(np.uint8)) # displaying the augmented image\n",
        "    plt.title(\"Augmented\") # giving the plot a title\n",
        "  plt.show() # ensuring the image shows\n",
        "  break # becase we only want to display the first image"
      ],
      "metadata": {
        "colab": {
          "base_uri": "https://localhost:8080/",
          "height": 545
        },
        "id": "fxj0Qb85uDpa",
        "outputId": "e43adfa2-88dd-48d8-8abb-cb9d02b4889f"
      },
      "execution_count": null,
      "outputs": [
        {
          "output_type": "display_data",
          "data": {
            "text/plain": [
              "<Figure size 432x288 with 1 Axes>"
            ],
            "image/png": "[encoded data removed]"
          },
          "metadata": {
            "needs_background": "light"
          }
        },
        {
          "output_type": "display_data",
          "data": {
            "text/plain": [
              "<Figure size 432x288 with 1 Axes>"
            ],
            "image/png": "[encoded data removed]"
          },
          "metadata": {
            "needs_background": "light"
          }
        }
      ]
    },
    {
      "cell_type": "markdown",
      "metadata": {
        "id": "M6c8xzloyoUD"
      },
      "source": [
        "# Task 2\n",
        "Build a Neural Network model, train on the features and report the accuracy.\n",
        "Report your observations on the time taken on CPU and GPU (with and without CuDNN kernel) \n",
        "\n",
        "\n",
        "\n",
        "1.   Create a CNN based model with 4 hidden layers with 64, 128, 256 and 512 units in each succesive layer. Use a 5x5 convolution kernel and change as necessary. (Use at least 2 augmentations on your input) \n",
        "2.   Create an LSTM based model with 1 LSTM layer with 256 units. \n",
        "\n"
      ]
    },
    {
      "cell_type": "markdown",
      "source": [
        "**Defining Function to Create Model**"
      ],
      "metadata": {
        "id": "ICKvBM6Xi8pq"
      }
    },
    {
      "cell_type": "code",
      "source": [
        "# code to create model modified from Dr Y's FashionMNIST notebook\n",
        "def create_model():\n",
        "  model = tf.keras.models.Sequential() # we will be creating a sequential model with four layers\n",
        "  model.add(tf.keras.layers.BatchNormalization(input_shape=x_train.shape[1:])) # normalizing the inputs for the first layer\n",
        "  model.add(tf.keras.layers.Conv2D(64, (5, 5), padding='same', activation='elu')) # 2D convolution layer with 64 filters, a 5x5 kernel, padding, and ELU activation function\n",
        "  model.add(tf.keras.layers.MaxPooling2D(pool_size=(2, 2))) # performing max pooling to reduce number of features and prevent over-fitting\n",
        "  model.add(tf.keras.layers.Dropout(0.25)) # randomly setting inputs to 0 in effort to prevent overfitting\n",
        "\n",
        "  model.add(tf.keras.layers.BatchNormalization(input_shape=x_train.shape[1:])) # normalizing the inputs for the second layer\n",
        "  model.add(tf.keras.layers.Conv2D(128, (5, 5), padding='same', activation='elu')) # 2D convolution layer with 128 filters, a 5x5 kernel, padding, and ELU activation function\n",
        "  model.add(tf.keras.layers.MaxPooling2D(pool_size=(2, 2))) # performing max pooling to reduce number of features and prevent over-fitting\n",
        "  model.add(tf.keras.layers.Dropout(0.25)) # randomly setting inputs to 0 in effort to prevent overfitting\n",
        "\n",
        "  model.add(tf.keras.layers.BatchNormalization(input_shape=x_train.shape[1:])) # normalizing the inputs for the third layer\n",
        "  model.add(tf.keras.layers.Conv2D(256, (5, 5), padding='same', activation='elu')) # 2D convolution layer with 256 filters, a 5x5 kernel, padding, and ELU activation function\n",
        "  model.add(tf.keras.layers.MaxPooling2D(pool_size=(2, 2))) # performing max pooling to reduce number of features and prevent over-fitting\n",
        "  model.add(tf.keras.layers.Dropout(0.25)) # randomly setting inputs to 0 in effort to prevent overfitting\n",
        "\n",
        "  model.add(tf.keras.layers.BatchNormalization(input_shape=x_train.shape[1:])) # normalizing the inputs for the fourth layer\n",
        "  model.add(tf.keras.layers.Conv2D(512, (5, 5), padding='same', activation='elu')) # 2D convolution layer with 512 filters, a 5x5 kernel, padding, and ELU activation function\n",
        "  model.add(tf.keras.layers.MaxPooling2D(pool_size=(2, 2))) # performing max pooling to reduce number of features and prevent over-fitting\n",
        "  model.add(tf.keras.layers.Dropout(0.25)) # randomly setting inputs to 0 in effort to prevent overfitting\n",
        "\n",
        "  model.add(tf.keras.layers.Flatten()) # flattening input\n",
        "  model.add(tf.keras.layers.Dense(512)) # creating a densely connected layer with 512 units\n",
        "  model.add(tf.keras.layers.Activation('elu')) # using ELU activation function\n",
        "  model.add(tf.keras.layers.Dropout(0.5)) # randomly setting inputs to 0 in effort to prevent overfitting\n",
        "  model.add(tf.keras.layers.Dense(10)) # creating densely connected layer with 10 units (number of classes)\n",
        "  model.add(tf.keras.layers.Activation('softmax')) # using softmax activation function\n",
        "  return model"
      ],
      "metadata": {
        "id": "M6L0LcfC2EI2"
      },
      "execution_count": null,
      "outputs": []
    },
    {
      "cell_type": "markdown",
      "source": [
        "**CNN Using CPU**"
      ],
      "metadata": {
        "id": "q_PQb4d-iJR-"
      }
    },
    {
      "cell_type": "code",
      "source": [
        "modelAug = create_model() # creating model to train on augmented data\n",
        "\n",
        "# compiling model with adam optimizer and sparse categorical crossentropy/accuracy as our evaluation metrics\n",
        "# learning rate of .001 is large enough that it doesn't take too long to run on CPU\n",
        "modelAug.compile(\n",
        "  optimizer=tf.keras.optimizers.Adam(learning_rate=.001),\n",
        "  loss='sparse_categorical_crossentropy',\n",
        "  metrics=['sparse_categorical_accuracy'])"
      ],
      "metadata": {
        "id": "xgF-EL8wzFW8"
      },
      "execution_count": null,
      "outputs": []
    },
    {
      "cell_type": "code",
      "source": [
        "%%time\n",
        "\n",
        "batch = 128 # chose batch size more or less randomly - seems to give good performance\n",
        "\n",
        "# steps per epoch was calculated as len(x_train)/batch_size\n",
        "\n",
        "# training model on augmented data with a batch size of 128 and 10 epochs with 391 steps per epoch\n",
        "historyAug = modelAug.fit(\n",
        "    dataAug2.flow(x_train, y_train, batch_size=batch), # this is where we perform our augmentation\n",
        "    epochs=10,\n",
        "    steps_per_epoch=391,\n",
        "    validation_data=(x_test.astype(np.float32), y_test.astype(np.float32)), # we'll use the test set to perform validation\n",
        "    validation_freq=1, # we want to validate using the test set on each epoch\n",
        "    batch_size = batch\n",
        ")\n",
        "\n",
        "# evaluating training set accuracy\n",
        "aug_train_acc = modelAug.evaluate(x_train.astype(np.float32), y_train.astype(np.float32), batch_size=batch)\n",
        "print(aug_train_acc)\n",
        "\n",
        "# evalutating test set accuracy\n",
        "aug_test_acc = modelAug.evaluate(x_test.astype(np.float32), y_test.astype(np.float32), batch_size=batch)\n",
        "print(aug_test_acc)"
      ],
      "metadata": {
        "colab": {
          "base_uri": "https://localhost:8080/"
        },
        "id": "Tg6n4K8CGtQZ",
        "outputId": "ee43429a-09b6-4657-9f1e-72a6ce0d8e48"
      },
      "execution_count": null,
      "outputs": [
        {
          "output_type": "stream",
          "name": "stdout",
          "text": [
            "Epoch 1/10\n",
            "391/391 [==============================] - 884s 2s/step - loss: 2.1526 - sparse_categorical_accuracy: 0.3215 - val_loss: 1.4167 - val_sparse_categorical_accuracy: 0.5144\n",
            "Epoch 2/10\n",
            "391/391 [==============================] - 835s 2s/step - loss: 1.5067 - sparse_categorical_accuracy: 0.4667 - val_loss: 1.2394 - val_sparse_categorical_accuracy: 0.5875\n",
            "Epoch 3/10\n",
            "391/391 [==============================] - 833s 2s/step - loss: 1.2492 - sparse_categorical_accuracy: 0.5573 - val_loss: 1.0584 - val_sparse_categorical_accuracy: 0.6359\n",
            "Epoch 4/10\n",
            "391/391 [==============================] - 838s 2s/step - loss: 1.1227 - sparse_categorical_accuracy: 0.6077 - val_loss: 0.9361 - val_sparse_categorical_accuracy: 0.6768\n",
            "Epoch 5/10\n",
            "391/391 [==============================] - 812s 2s/step - loss: 1.0384 - sparse_categorical_accuracy: 0.6381 - val_loss: 0.9882 - val_sparse_categorical_accuracy: 0.6710\n",
            "Epoch 6/10\n",
            "391/391 [==============================] - 816s 2s/step - loss: 0.9732 - sparse_categorical_accuracy: 0.6644 - val_loss: 0.8046 - val_sparse_categorical_accuracy: 0.7305\n",
            "Epoch 7/10\n",
            "391/391 [==============================] - 804s 2s/step - loss: 0.9262 - sparse_categorical_accuracy: 0.6816 - val_loss: 0.7743 - val_sparse_categorical_accuracy: 0.7414\n",
            "Epoch 8/10\n",
            "391/391 [==============================] - 804s 2s/step - loss: 0.8889 - sparse_categorical_accuracy: 0.6953 - val_loss: 0.7530 - val_sparse_categorical_accuracy: 0.7454\n",
            "Epoch 9/10\n",
            "391/391 [==============================] - 798s 2s/step - loss: 0.8530 - sparse_categorical_accuracy: 0.7054 - val_loss: 0.7008 - val_sparse_categorical_accuracy: 0.7658\n",
            "Epoch 10/10\n",
            "391/391 [==============================] - 793s 2s/step - loss: 0.8228 - sparse_categorical_accuracy: 0.7182 - val_loss: 0.6956 - val_sparse_categorical_accuracy: 0.7687\n",
            "391/391 [==============================] - 143s 367ms/step - loss: 0.5930 - sparse_categorical_accuracy: 0.7939\n",
            "[0.5929514169692993, 0.7938799858093262]\n",
            "79/79 [==============================] - 29s 370ms/step - loss: 0.6956 - sparse_categorical_accuracy: 0.7687\n",
            "[0.695563018321991, 0.7687000036239624]\n",
            "CPU times: user 8h 27min 7s, sys: 6min 31s, total: 8h 33min 39s\n",
            "Wall time: 2h 23min 50s\n"
          ]
        }
      ]
    },
    {
      "cell_type": "markdown",
      "source": [
        "*Results for CPU-based CNN*\n",
        "\n",
        "*   Epochs: 10 epochs at 391 steps per epoch\n",
        "*   Training Set Accuracy: 79.39%\n",
        "*   Test Set Accuracy: 76.87%\n",
        "*   Training Speed: ~820 seconds per Epoch\n",
        "*   Total Time to Run: ~2.5 hours \n",
        "\n"
      ],
      "metadata": {
        "id": "PTsUMwR6jO7w"
      }
    },
    {
      "cell_type": "markdown",
      "source": [
        "**CNN using GPU**"
      ],
      "metadata": {
        "id": "5wSBtUNP6aSD"
      }
    },
    {
      "cell_type": "code",
      "source": [
        "# runtime was changed to GPU before running the below cells\n",
        "\n",
        "modelAugGPU = create_model() # creating model to train on augmented data using a GPU\n",
        "\n",
        "# compiling model with adam optimizer and sparse categorical crossentropy/accuracy as our evaluation metrics\n",
        "# using a learning rate of .001 so we can have a 1:1 comparison with the CPU trial above\n",
        "modelAugGPU.compile(\n",
        "  optimizer=tf.keras.optimizers.Adam(learning_rate=.001),\n",
        "  loss='sparse_categorical_crossentropy',\n",
        "  metrics=['sparse_categorical_accuracy'])"
      ],
      "metadata": {
        "id": "jXOdKPbxKa4Y"
      },
      "execution_count": null,
      "outputs": []
    },
    {
      "cell_type": "code",
      "source": [
        "%%time\n",
        "\n",
        "batch = 128 # keeping batch size the same to ensure a 1:1 comparison\n",
        "\n",
        "# training model on augmented data using GPU with the same hyperparameters as the CPU model to ensure a 1:1 comparison \n",
        "history_cudnn = modelAugGPU.fit(\n",
        "    dataAug2.flow(x_train, y_train, batch_size=batch),\n",
        "    epochs=10,\n",
        "    steps_per_epoch=391,\n",
        "    validation_data=(x_test.astype(np.float32), y_test.astype(np.float32)),\n",
        "    validation_freq=1,\n",
        "    batch_size=batch\n",
        ")\n",
        "\n",
        "# evaluating training set accuracy\n",
        "augGPU_train_acc = modelAugGPU.evaluate(x_train.astype(np.float32), y_train.astype(np.float32), batch_size=batch)\n",
        "print(augGPU_train_acc)\n",
        "\n",
        "# evalutating test set accuracy\n",
        "augGPU_test_acc = modelAugGPU.evaluate(x_test.astype(np.float32), y_test.astype(np.float32), batch_size=batch)\n",
        "print(augGPU_test_acc)"
      ],
      "metadata": {
        "colab": {
          "base_uri": "https://localhost:8080/"
        },
        "outputId": "194105cb-a59f-46a7-e69b-0b3e1d53e0d8",
        "id": "gBTnd5ECKa4Z"
      },
      "execution_count": null,
      "outputs": [
        {
          "output_type": "stream",
          "name": "stdout",
          "text": [
            "Epoch 1/10\n",
            "391/391 [==============================] - 35s 66ms/step - loss: 2.1159 - sparse_categorical_accuracy: 0.3319 - val_loss: 1.4195 - val_sparse_categorical_accuracy: 0.4926\n",
            "Epoch 2/10\n",
            "391/391 [==============================] - 25s 65ms/step - loss: 1.5170 - sparse_categorical_accuracy: 0.4677 - val_loss: 1.1366 - val_sparse_categorical_accuracy: 0.6083\n",
            "Epoch 3/10\n",
            "391/391 [==============================] - 25s 64ms/step - loss: 1.2596 - sparse_categorical_accuracy: 0.5529 - val_loss: 1.0419 - val_sparse_categorical_accuracy: 0.6388\n",
            "Epoch 4/10\n",
            "391/391 [==============================] - 25s 64ms/step - loss: 1.1315 - sparse_categorical_accuracy: 0.6047 - val_loss: 0.9046 - val_sparse_categorical_accuracy: 0.6857\n",
            "Epoch 5/10\n",
            "391/391 [==============================] - 25s 63ms/step - loss: 1.0455 - sparse_categorical_accuracy: 0.6374 - val_loss: 0.9784 - val_sparse_categorical_accuracy: 0.6747\n",
            "Epoch 6/10\n",
            "391/391 [==============================] - 25s 64ms/step - loss: 0.9689 - sparse_categorical_accuracy: 0.6630 - val_loss: 0.8037 - val_sparse_categorical_accuracy: 0.7237\n",
            "Epoch 7/10\n",
            "391/391 [==============================] - 24s 61ms/step - loss: 0.9243 - sparse_categorical_accuracy: 0.6827 - val_loss: 0.7686 - val_sparse_categorical_accuracy: 0.7405\n",
            "Epoch 8/10\n",
            "391/391 [==============================] - 25s 63ms/step - loss: 0.8834 - sparse_categorical_accuracy: 0.6971 - val_loss: 0.8496 - val_sparse_categorical_accuracy: 0.7241\n",
            "Epoch 9/10\n",
            "391/391 [==============================] - 24s 62ms/step - loss: 0.8626 - sparse_categorical_accuracy: 0.7067 - val_loss: 0.7744 - val_sparse_categorical_accuracy: 0.7491\n",
            "Epoch 10/10\n",
            "391/391 [==============================] - 25s 63ms/step - loss: 0.8204 - sparse_categorical_accuracy: 0.7197 - val_loss: 0.7024 - val_sparse_categorical_accuracy: 0.7625\n",
            "391/391 [==============================] - 4s 11ms/step - loss: 0.5879 - sparse_categorical_accuracy: 0.7987\n",
            "[0.5878597497940063, 0.798740029335022]\n",
            "79/79 [==============================] - 1s 11ms/step - loss: 0.7024 - sparse_categorical_accuracy: 0.7625\n",
            "[0.7024380564689636, 0.762499988079071]\n",
            "CPU times: user 5min 33s, sys: 10.3 s, total: 5min 43s\n",
            "Wall time: 4min 25s\n"
          ]
        }
      ]
    },
    {
      "cell_type": "markdown",
      "source": [
        "*Results for GPU-based CNN*\n",
        "\n",
        "\n",
        "\n",
        "*   Epochs: 10 epochs at 391 steps per epoch\n",
        "*   Training Set Accuracy: 79.87%\n",
        "*   Test Set Accuracy: 76.25%\n",
        "*   Training Speed: ~25 seconds per Epoch\n",
        "*   Total Time to Run: ~4.5 minutes\n",
        "\n",
        "The time difference between CPU and GPU is crazy - GPU's give you the freedom to expirement with so much more"
      ],
      "metadata": {
        "id": "OVgKdDZ1NlBR"
      }
    },
    {
      "cell_type": "markdown",
      "source": [
        "**Taking advantage of the GPU speed to train with several more epochs to maximize accuracy**"
      ],
      "metadata": {
        "id": "-iUPTQOZOCGy"
      }
    },
    {
      "cell_type": "code",
      "source": [
        "modelAugGPU = create_model() # creating model to train on augmented data using a GPU\n",
        "\n",
        "# compiling model with adam optimizer and sparse categorical crossentropy/accuracy as our evaluation metrics\n",
        "modelAugGPU.compile(\n",
        "  optimizer=tf.keras.optimizers.Adam(learning_rate=.0001), # decreasing learning rate from .001 to .0001 seemed to improve performance\n",
        "  loss='sparse_categorical_crossentropy',\n",
        "  metrics=['sparse_categorical_accuracy'])"
      ],
      "metadata": {
        "id": "cG-3AKGOOFDl"
      },
      "execution_count": null,
      "outputs": []
    },
    {
      "cell_type": "code",
      "source": [
        "print(len(x_train)/128) # this will be my steps per epoch (rounded up)"
      ],
      "metadata": {
        "colab": {
          "base_uri": "https://localhost:8080/"
        },
        "id": "Xfea-C90uik6",
        "outputId": "8ae8e979-d7d5-469b-f197-21ed6a8b635e"
      },
      "execution_count": null,
      "outputs": [
        {
          "output_type": "stream",
          "name": "stdout",
          "text": [
            "390.625\n"
          ]
        }
      ]
    },
    {
      "cell_type": "code",
      "source": [
        "%%time\n",
        "\n",
        "batch = 128\n",
        "\n",
        "# training model on augmented data with a batch size of 128, 100 epochs, and 391 steps per epoch\n",
        "# i tried to keep the majority of my hyperparameters the same - only the learning rate and # of epochs were changed\n",
        "historyAugGPU = modelAugGPU.fit(\n",
        "    dataAug2.flow(x_train, y_train, batch_size=batch),\n",
        "    epochs=100,\n",
        "    steps_per_epoch=391,\n",
        "    validation_data=(x_test.astype(np.float32), y_test.astype(np.float32)),\n",
        "    validation_freq=1,\n",
        "    batch_size=batch\n",
        ")\n",
        "\n",
        "# evaluating training set accuracy\n",
        "augGPU_train_acc = modelAugGPU.evaluate(x_train.astype(np.float32), y_train.astype(np.float32), batch_size=batch)\n",
        "print(augGPU_train_acc)\n",
        "\n",
        "# evalutating test set accuracy\n",
        "augGPU_test_acc = modelAugGPU.evaluate(x_test.astype(np.float32), y_test.astype(np.float32), batch_size=batch)\n",
        "print(augGPU_test_acc)"
      ],
      "metadata": {
        "colab": {
          "base_uri": "https://localhost:8080/"
        },
        "outputId": "04b51108-cf92-4a9e-d4d3-7624ad15ad4a",
        "id": "t8LRlvz3OFDl"
      },
      "execution_count": null,
      "outputs": [
        {
          "output_type": "stream",
          "name": "stdout",
          "text": [
            "Epoch 1/100\n",
            "391/391 [==============================] - 34s 62ms/step - loss: 1.9879 - sparse_categorical_accuracy: 0.3331 - val_loss: 3.1114 - val_sparse_categorical_accuracy: 0.2419\n",
            "Epoch 2/100\n",
            "391/391 [==============================] - 24s 61ms/step - loss: 1.6807 - sparse_categorical_accuracy: 0.4244 - val_loss: 1.9954 - val_sparse_categorical_accuracy: 0.4244\n",
            "Epoch 3/100\n",
            "391/391 [==============================] - 24s 61ms/step - loss: 1.5532 - sparse_categorical_accuracy: 0.4641 - val_loss: 1.7351 - val_sparse_categorical_accuracy: 0.4846\n",
            "Epoch 4/100\n",
            "391/391 [==============================] - 24s 61ms/step - loss: 1.4445 - sparse_categorical_accuracy: 0.4988 - val_loss: 1.7276 - val_sparse_categorical_accuracy: 0.4984\n",
            "Epoch 5/100\n",
            "391/391 [==============================] - 24s 61ms/step - loss: 1.3668 - sparse_categorical_accuracy: 0.5238 - val_loss: 1.3549 - val_sparse_categorical_accuracy: 0.5663\n",
            "Epoch 6/100\n",
            "391/391 [==============================] - 24s 61ms/step - loss: 1.3060 - sparse_categorical_accuracy: 0.5431 - val_loss: 1.3317 - val_sparse_categorical_accuracy: 0.5735\n",
            "Epoch 7/100\n",
            "391/391 [==============================] - 24s 60ms/step - loss: 1.2430 - sparse_categorical_accuracy: 0.5639 - val_loss: 1.3706 - val_sparse_categorical_accuracy: 0.5801\n",
            "Epoch 8/100\n",
            "391/391 [==============================] - 24s 60ms/step - loss: 1.1886 - sparse_categorical_accuracy: 0.5840 - val_loss: 1.1059 - val_sparse_categorical_accuracy: 0.6316\n",
            "Epoch 9/100\n",
            "391/391 [==============================] - 24s 61ms/step - loss: 1.1407 - sparse_categorical_accuracy: 0.6007 - val_loss: 1.2926 - val_sparse_categorical_accuracy: 0.6006\n",
            "Epoch 10/100\n",
            "391/391 [==============================] - 24s 61ms/step - loss: 1.1015 - sparse_categorical_accuracy: 0.6125 - val_loss: 1.1177 - val_sparse_categorical_accuracy: 0.6380\n",
            "Epoch 11/100\n",
            "391/391 [==============================] - 24s 62ms/step - loss: 1.0672 - sparse_categorical_accuracy: 0.6255 - val_loss: 1.0360 - val_sparse_categorical_accuracy: 0.6614\n",
            "Epoch 12/100\n",
            "391/391 [==============================] - 24s 61ms/step - loss: 1.0289 - sparse_categorical_accuracy: 0.6364 - val_loss: 0.9498 - val_sparse_categorical_accuracy: 0.6761\n",
            "Epoch 13/100\n",
            "391/391 [==============================] - 24s 61ms/step - loss: 1.0001 - sparse_categorical_accuracy: 0.6478 - val_loss: 1.0640 - val_sparse_categorical_accuracy: 0.6522\n",
            "Epoch 14/100\n",
            "391/391 [==============================] - 24s 60ms/step - loss: 0.9711 - sparse_categorical_accuracy: 0.6587 - val_loss: 0.9180 - val_sparse_categorical_accuracy: 0.6884\n",
            "Epoch 15/100\n",
            "391/391 [==============================] - 24s 61ms/step - loss: 0.9409 - sparse_categorical_accuracy: 0.6691 - val_loss: 0.9137 - val_sparse_categorical_accuracy: 0.6963\n",
            "Epoch 16/100\n",
            "391/391 [==============================] - 24s 61ms/step - loss: 0.9168 - sparse_categorical_accuracy: 0.6781 - val_loss: 0.8814 - val_sparse_categorical_accuracy: 0.7077\n",
            "Epoch 17/100\n",
            "391/391 [==============================] - 24s 61ms/step - loss: 0.8924 - sparse_categorical_accuracy: 0.6864 - val_loss: 0.7881 - val_sparse_categorical_accuracy: 0.7347\n",
            "Epoch 18/100\n",
            "391/391 [==============================] - 23s 60ms/step - loss: 0.8661 - sparse_categorical_accuracy: 0.6953 - val_loss: 0.8564 - val_sparse_categorical_accuracy: 0.7122\n",
            "Epoch 19/100\n",
            "391/391 [==============================] - 24s 60ms/step - loss: 0.8508 - sparse_categorical_accuracy: 0.7023 - val_loss: 0.8098 - val_sparse_categorical_accuracy: 0.7322\n",
            "Epoch 20/100\n",
            "391/391 [==============================] - 23s 60ms/step - loss: 0.8284 - sparse_categorical_accuracy: 0.7117 - val_loss: 0.8218 - val_sparse_categorical_accuracy: 0.7300\n",
            "Epoch 21/100\n",
            "391/391 [==============================] - 23s 60ms/step - loss: 0.8082 - sparse_categorical_accuracy: 0.7174 - val_loss: 0.7281 - val_sparse_categorical_accuracy: 0.7527\n",
            "Epoch 22/100\n",
            "391/391 [==============================] - 24s 60ms/step - loss: 0.7845 - sparse_categorical_accuracy: 0.7241 - val_loss: 0.7428 - val_sparse_categorical_accuracy: 0.7496\n",
            "Epoch 23/100\n",
            "391/391 [==============================] - 24s 60ms/step - loss: 0.7783 - sparse_categorical_accuracy: 0.7280 - val_loss: 0.7376 - val_sparse_categorical_accuracy: 0.7527\n",
            "Epoch 24/100\n",
            "391/391 [==============================] - 23s 60ms/step - loss: 0.7511 - sparse_categorical_accuracy: 0.7384 - val_loss: 0.7230 - val_sparse_categorical_accuracy: 0.7613\n",
            "Epoch 25/100\n",
            "391/391 [==============================] - 23s 60ms/step - loss: 0.7418 - sparse_categorical_accuracy: 0.7403 - val_loss: 0.6792 - val_sparse_categorical_accuracy: 0.7745\n",
            "Epoch 26/100\n",
            "391/391 [==============================] - 25s 63ms/step - loss: 0.7251 - sparse_categorical_accuracy: 0.7453 - val_loss: 0.6576 - val_sparse_categorical_accuracy: 0.7759\n",
            "Epoch 27/100\n",
            "391/391 [==============================] - 25s 63ms/step - loss: 0.7112 - sparse_categorical_accuracy: 0.7522 - val_loss: 0.6676 - val_sparse_categorical_accuracy: 0.7820\n",
            "Epoch 28/100\n",
            "391/391 [==============================] - 25s 64ms/step - loss: 0.6995 - sparse_categorical_accuracy: 0.7559 - val_loss: 0.6612 - val_sparse_categorical_accuracy: 0.7767\n",
            "Epoch 29/100\n",
            "391/391 [==============================] - 25s 64ms/step - loss: 0.6852 - sparse_categorical_accuracy: 0.7612 - val_loss: 0.6511 - val_sparse_categorical_accuracy: 0.7866\n",
            "Epoch 30/100\n",
            "391/391 [==============================] - 25s 64ms/step - loss: 0.6761 - sparse_categorical_accuracy: 0.7626 - val_loss: 0.6270 - val_sparse_categorical_accuracy: 0.7945\n",
            "Epoch 31/100\n",
            "391/391 [==============================] - 25s 63ms/step - loss: 0.6581 - sparse_categorical_accuracy: 0.7690 - val_loss: 0.6521 - val_sparse_categorical_accuracy: 0.7848\n",
            "Epoch 32/100\n",
            "391/391 [==============================] - 25s 63ms/step - loss: 0.6466 - sparse_categorical_accuracy: 0.7732 - val_loss: 0.6413 - val_sparse_categorical_accuracy: 0.7883\n",
            "Epoch 33/100\n",
            "391/391 [==============================] - 25s 63ms/step - loss: 0.6340 - sparse_categorical_accuracy: 0.7787 - val_loss: 0.5732 - val_sparse_categorical_accuracy: 0.8075\n",
            "Epoch 34/100\n",
            "391/391 [==============================] - 25s 63ms/step - loss: 0.6260 - sparse_categorical_accuracy: 0.7808 - val_loss: 0.5785 - val_sparse_categorical_accuracy: 0.8064\n",
            "Epoch 35/100\n",
            "391/391 [==============================] - 25s 63ms/step - loss: 0.6175 - sparse_categorical_accuracy: 0.7832 - val_loss: 0.5910 - val_sparse_categorical_accuracy: 0.8021\n",
            "Epoch 36/100\n",
            "391/391 [==============================] - 25s 64ms/step - loss: 0.6025 - sparse_categorical_accuracy: 0.7887 - val_loss: 0.5819 - val_sparse_categorical_accuracy: 0.8064\n",
            "Epoch 37/100\n",
            "391/391 [==============================] - 25s 63ms/step - loss: 0.5949 - sparse_categorical_accuracy: 0.7916 - val_loss: 0.5897 - val_sparse_categorical_accuracy: 0.8017\n",
            "Epoch 38/100\n",
            "391/391 [==============================] - 25s 64ms/step - loss: 0.5849 - sparse_categorical_accuracy: 0.7955 - val_loss: 0.5577 - val_sparse_categorical_accuracy: 0.8147\n",
            "Epoch 39/100\n",
            "391/391 [==============================] - 25s 64ms/step - loss: 0.5824 - sparse_categorical_accuracy: 0.7945 - val_loss: 0.5781 - val_sparse_categorical_accuracy: 0.8081\n",
            "Epoch 40/100\n",
            "391/391 [==============================] - 25s 64ms/step - loss: 0.5690 - sparse_categorical_accuracy: 0.7989 - val_loss: 0.5553 - val_sparse_categorical_accuracy: 0.8168\n",
            "Epoch 41/100\n",
            "391/391 [==============================] - 25s 64ms/step - loss: 0.5643 - sparse_categorical_accuracy: 0.8025 - val_loss: 0.5538 - val_sparse_categorical_accuracy: 0.8143\n",
            "Epoch 42/100\n",
            "391/391 [==============================] - 24s 61ms/step - loss: 0.5502 - sparse_categorical_accuracy: 0.8050 - val_loss: 0.5514 - val_sparse_categorical_accuracy: 0.8193\n",
            "Epoch 43/100\n",
            "391/391 [==============================] - 24s 61ms/step - loss: 0.5459 - sparse_categorical_accuracy: 0.8084 - val_loss: 0.5356 - val_sparse_categorical_accuracy: 0.8237\n",
            "Epoch 44/100\n",
            "391/391 [==============================] - 23s 59ms/step - loss: 0.5432 - sparse_categorical_accuracy: 0.8092 - val_loss: 0.5380 - val_sparse_categorical_accuracy: 0.8185\n",
            "Epoch 45/100\n",
            "391/391 [==============================] - 23s 59ms/step - loss: 0.5349 - sparse_categorical_accuracy: 0.8103 - val_loss: 0.5154 - val_sparse_categorical_accuracy: 0.8254\n",
            "Epoch 46/100\n",
            "391/391 [==============================] - 23s 60ms/step - loss: 0.5265 - sparse_categorical_accuracy: 0.8149 - val_loss: 0.5514 - val_sparse_categorical_accuracy: 0.8198\n",
            "Epoch 47/100\n",
            "391/391 [==============================] - 24s 62ms/step - loss: 0.5168 - sparse_categorical_accuracy: 0.8184 - val_loss: 0.5563 - val_sparse_categorical_accuracy: 0.8168\n",
            "Epoch 48/100\n",
            "391/391 [==============================] - 24s 60ms/step - loss: 0.5089 - sparse_categorical_accuracy: 0.8216 - val_loss: 0.5152 - val_sparse_categorical_accuracy: 0.8254\n",
            "Epoch 49/100\n",
            "391/391 [==============================] - 23s 60ms/step - loss: 0.5048 - sparse_categorical_accuracy: 0.8212 - val_loss: 0.5154 - val_sparse_categorical_accuracy: 0.8319\n",
            "Epoch 50/100\n",
            "391/391 [==============================] - 23s 59ms/step - loss: 0.5000 - sparse_categorical_accuracy: 0.8248 - val_loss: 0.5128 - val_sparse_categorical_accuracy: 0.8305\n",
            "Epoch 51/100\n",
            "391/391 [==============================] - 23s 60ms/step - loss: 0.4910 - sparse_categorical_accuracy: 0.8286 - val_loss: 0.4850 - val_sparse_categorical_accuracy: 0.8408\n",
            "Epoch 52/100\n",
            "391/391 [==============================] - 23s 60ms/step - loss: 0.4860 - sparse_categorical_accuracy: 0.8302 - val_loss: 0.5045 - val_sparse_categorical_accuracy: 0.8348\n",
            "Epoch 53/100\n",
            "391/391 [==============================] - 23s 60ms/step - loss: 0.4817 - sparse_categorical_accuracy: 0.8304 - val_loss: 0.4833 - val_sparse_categorical_accuracy: 0.8405\n",
            "Epoch 54/100\n",
            "391/391 [==============================] - 23s 60ms/step - loss: 0.4774 - sparse_categorical_accuracy: 0.8315 - val_loss: 0.4582 - val_sparse_categorical_accuracy: 0.8490\n",
            "Epoch 55/100\n",
            "391/391 [==============================] - 23s 60ms/step - loss: 0.4688 - sparse_categorical_accuracy: 0.8351 - val_loss: 0.5065 - val_sparse_categorical_accuracy: 0.8363\n",
            "Epoch 56/100\n",
            "391/391 [==============================] - 24s 61ms/step - loss: 0.4626 - sparse_categorical_accuracy: 0.8377 - val_loss: 0.5145 - val_sparse_categorical_accuracy: 0.8333\n",
            "Epoch 57/100\n",
            "391/391 [==============================] - 24s 60ms/step - loss: 0.4565 - sparse_categorical_accuracy: 0.8405 - val_loss: 0.4994 - val_sparse_categorical_accuracy: 0.8353\n",
            "Epoch 58/100\n",
            "391/391 [==============================] - 23s 60ms/step - loss: 0.4593 - sparse_categorical_accuracy: 0.8384 - val_loss: 0.5364 - val_sparse_categorical_accuracy: 0.8304\n",
            "Epoch 59/100\n",
            "391/391 [==============================] - 23s 60ms/step - loss: 0.4478 - sparse_categorical_accuracy: 0.8436 - val_loss: 0.5018 - val_sparse_categorical_accuracy: 0.8327\n",
            "Epoch 60/100\n",
            "391/391 [==============================] - 24s 60ms/step - loss: 0.4462 - sparse_categorical_accuracy: 0.8441 - val_loss: 0.5269 - val_sparse_categorical_accuracy: 0.8298\n",
            "Epoch 61/100\n",
            "391/391 [==============================] - 23s 60ms/step - loss: 0.4423 - sparse_categorical_accuracy: 0.8434 - val_loss: 0.4775 - val_sparse_categorical_accuracy: 0.8451\n",
            "Epoch 62/100\n",
            "391/391 [==============================] - 23s 60ms/step - loss: 0.4333 - sparse_categorical_accuracy: 0.8457 - val_loss: 0.4758 - val_sparse_categorical_accuracy: 0.8462\n",
            "Epoch 63/100\n",
            "391/391 [==============================] - 24s 60ms/step - loss: 0.4259 - sparse_categorical_accuracy: 0.8497 - val_loss: 0.4695 - val_sparse_categorical_accuracy: 0.8485\n",
            "Epoch 64/100\n",
            "391/391 [==============================] - 23s 60ms/step - loss: 0.4254 - sparse_categorical_accuracy: 0.8502 - val_loss: 0.4848 - val_sparse_categorical_accuracy: 0.8445\n",
            "Epoch 65/100\n",
            "391/391 [==============================] - 23s 60ms/step - loss: 0.4136 - sparse_categorical_accuracy: 0.8530 - val_loss: 0.4608 - val_sparse_categorical_accuracy: 0.8498\n",
            "Epoch 66/100\n",
            "391/391 [==============================] - 24s 60ms/step - loss: 0.4158 - sparse_categorical_accuracy: 0.8529 - val_loss: 0.5109 - val_sparse_categorical_accuracy: 0.8371\n",
            "Epoch 67/100\n",
            "391/391 [==============================] - 24s 60ms/step - loss: 0.4126 - sparse_categorical_accuracy: 0.8533 - val_loss: 0.4852 - val_sparse_categorical_accuracy: 0.8459\n",
            "Epoch 68/100\n",
            "391/391 [==============================] - 23s 59ms/step - loss: 0.4079 - sparse_categorical_accuracy: 0.8552 - val_loss: 0.4493 - val_sparse_categorical_accuracy: 0.8563\n",
            "Epoch 69/100\n",
            "391/391 [==============================] - 24s 60ms/step - loss: 0.4050 - sparse_categorical_accuracy: 0.8560 - val_loss: 0.4691 - val_sparse_categorical_accuracy: 0.8480\n",
            "Epoch 70/100\n",
            "391/391 [==============================] - 23s 60ms/step - loss: 0.3963 - sparse_categorical_accuracy: 0.8594 - val_loss: 0.4562 - val_sparse_categorical_accuracy: 0.8508\n",
            "Epoch 71/100\n",
            "391/391 [==============================] - 23s 60ms/step - loss: 0.4000 - sparse_categorical_accuracy: 0.8578 - val_loss: 0.4545 - val_sparse_categorical_accuracy: 0.8501\n",
            "Epoch 72/100\n",
            "391/391 [==============================] - 23s 60ms/step - loss: 0.3890 - sparse_categorical_accuracy: 0.8640 - val_loss: 0.4392 - val_sparse_categorical_accuracy: 0.8555\n",
            "Epoch 73/100\n",
            "391/391 [==============================] - 23s 60ms/step - loss: 0.3891 - sparse_categorical_accuracy: 0.8617 - val_loss: 0.4630 - val_sparse_categorical_accuracy: 0.8539\n",
            "Epoch 74/100\n",
            "391/391 [==============================] - 23s 60ms/step - loss: 0.3897 - sparse_categorical_accuracy: 0.8609 - val_loss: 0.4541 - val_sparse_categorical_accuracy: 0.8522\n",
            "Epoch 75/100\n",
            "391/391 [==============================] - 23s 59ms/step - loss: 0.3777 - sparse_categorical_accuracy: 0.8671 - val_loss: 0.4411 - val_sparse_categorical_accuracy: 0.8588\n",
            "Epoch 76/100\n",
            "391/391 [==============================] - 23s 59ms/step - loss: 0.3774 - sparse_categorical_accuracy: 0.8654 - val_loss: 0.4960 - val_sparse_categorical_accuracy: 0.8428\n",
            "Epoch 77/100\n",
            "391/391 [==============================] - 23s 60ms/step - loss: 0.3714 - sparse_categorical_accuracy: 0.8688 - val_loss: 0.4651 - val_sparse_categorical_accuracy: 0.8540\n",
            "Epoch 78/100\n",
            "391/391 [==============================] - 23s 59ms/step - loss: 0.3702 - sparse_categorical_accuracy: 0.8686 - val_loss: 0.4628 - val_sparse_categorical_accuracy: 0.8550\n",
            "Epoch 79/100\n",
            "391/391 [==============================] - 23s 59ms/step - loss: 0.3732 - sparse_categorical_accuracy: 0.8679 - val_loss: 0.4384 - val_sparse_categorical_accuracy: 0.8594\n",
            "Epoch 80/100\n",
            "391/391 [==============================] - 23s 60ms/step - loss: 0.3679 - sparse_categorical_accuracy: 0.8697 - val_loss: 0.4270 - val_sparse_categorical_accuracy: 0.8662\n",
            "Epoch 81/100\n",
            "391/391 [==============================] - 23s 60ms/step - loss: 0.3575 - sparse_categorical_accuracy: 0.8736 - val_loss: 0.4322 - val_sparse_categorical_accuracy: 0.8619\n",
            "Epoch 82/100\n",
            "391/391 [==============================] - 23s 60ms/step - loss: 0.3614 - sparse_categorical_accuracy: 0.8730 - val_loss: 0.4438 - val_sparse_categorical_accuracy: 0.8594\n",
            "Epoch 83/100\n",
            "391/391 [==============================] - 24s 60ms/step - loss: 0.3525 - sparse_categorical_accuracy: 0.8772 - val_loss: 0.4500 - val_sparse_categorical_accuracy: 0.8569\n",
            "Epoch 84/100\n",
            "391/391 [==============================] - 23s 60ms/step - loss: 0.3532 - sparse_categorical_accuracy: 0.8758 - val_loss: 0.4522 - val_sparse_categorical_accuracy: 0.8561\n",
            "Epoch 85/100\n",
            "391/391 [==============================] - 23s 60ms/step - loss: 0.3465 - sparse_categorical_accuracy: 0.8762 - val_loss: 0.4517 - val_sparse_categorical_accuracy: 0.8598\n",
            "Epoch 86/100\n",
            "391/391 [==============================] - 23s 59ms/step - loss: 0.3473 - sparse_categorical_accuracy: 0.8766 - val_loss: 0.4276 - val_sparse_categorical_accuracy: 0.8624\n",
            "Epoch 87/100\n",
            "391/391 [==============================] - 23s 60ms/step - loss: 0.3465 - sparse_categorical_accuracy: 0.8776 - val_loss: 0.4494 - val_sparse_categorical_accuracy: 0.8568\n",
            "Epoch 88/100\n",
            "391/391 [==============================] - 23s 60ms/step - loss: 0.3400 - sparse_categorical_accuracy: 0.8787 - val_loss: 0.4814 - val_sparse_categorical_accuracy: 0.8531\n",
            "Epoch 89/100\n",
            "391/391 [==============================] - 23s 60ms/step - loss: 0.3365 - sparse_categorical_accuracy: 0.8811 - val_loss: 0.4404 - val_sparse_categorical_accuracy: 0.8616\n",
            "Epoch 90/100\n",
            "391/391 [==============================] - 23s 60ms/step - loss: 0.3325 - sparse_categorical_accuracy: 0.8821 - val_loss: 0.4453 - val_sparse_categorical_accuracy: 0.8629\n",
            "Epoch 91/100\n",
            "391/391 [==============================] - 23s 60ms/step - loss: 0.3343 - sparse_categorical_accuracy: 0.8818 - val_loss: 0.4164 - val_sparse_categorical_accuracy: 0.8683\n",
            "Epoch 92/100\n",
            "391/391 [==============================] - 23s 59ms/step - loss: 0.3316 - sparse_categorical_accuracy: 0.8818 - val_loss: 0.4651 - val_sparse_categorical_accuracy: 0.8563\n",
            "Epoch 93/100\n",
            "391/391 [==============================] - 23s 60ms/step - loss: 0.3317 - sparse_categorical_accuracy: 0.8818 - val_loss: 0.4409 - val_sparse_categorical_accuracy: 0.8639\n",
            "Epoch 94/100\n",
            "391/391 [==============================] - 23s 60ms/step - loss: 0.3251 - sparse_categorical_accuracy: 0.8844 - val_loss: 0.4408 - val_sparse_categorical_accuracy: 0.8635\n",
            "Epoch 95/100\n",
            "391/391 [==============================] - 23s 60ms/step - loss: 0.3220 - sparse_categorical_accuracy: 0.8866 - val_loss: 0.4409 - val_sparse_categorical_accuracy: 0.8638\n",
            "Epoch 96/100\n",
            "391/391 [==============================] - 23s 60ms/step - loss: 0.3215 - sparse_categorical_accuracy: 0.8848 - val_loss: 0.4534 - val_sparse_categorical_accuracy: 0.8586\n",
            "Epoch 97/100\n",
            "391/391 [==============================] - 23s 60ms/step - loss: 0.3173 - sparse_categorical_accuracy: 0.8856 - val_loss: 0.4376 - val_sparse_categorical_accuracy: 0.8618\n",
            "Epoch 98/100\n",
            "391/391 [==============================] - 24s 60ms/step - loss: 0.3158 - sparse_categorical_accuracy: 0.8886 - val_loss: 0.4288 - val_sparse_categorical_accuracy: 0.8663\n",
            "Epoch 99/100\n",
            "391/391 [==============================] - 23s 59ms/step - loss: 0.3146 - sparse_categorical_accuracy: 0.8891 - val_loss: 0.4543 - val_sparse_categorical_accuracy: 0.8626\n",
            "Epoch 100/100\n",
            "391/391 [==============================] - 23s 60ms/step - loss: 0.3104 - sparse_categorical_accuracy: 0.8908 - val_loss: 0.4612 - val_sparse_categorical_accuracy: 0.8605\n",
            "391/391 [==============================] - 4s 11ms/step - loss: 0.1300 - sparse_categorical_accuracy: 0.9572\n",
            "[0.13001972436904907, 0.9571999907493591]\n",
            "79/79 [==============================] - 1s 11ms/step - loss: 0.4612 - sparse_categorical_accuracy: 0.8605\n",
            "[0.46121981739997864, 0.8604999780654907]\n",
            "CPU times: user 52min 24s, sys: 1min 23s, total: 53min 47s\n",
            "Wall time: 39min 50s\n"
          ]
        }
      ]
    },
    {
      "cell_type": "markdown",
      "source": [
        "*GPU-based CNN on Augmented Data Results w/ Smaller Learning Rate and More Epochs*\n",
        "\n",
        "*   Epochs: 100 epochs at 391 steps per epoch\n",
        "*   Training Set Accuracy: 95.72%\n",
        "*   Test Set Accuracy: 86.05%\n",
        "*   Training Speed: ~23 seconds per Epoch\n",
        "*   Total Time to Run: ~40 minutes"
      ],
      "metadata": {
        "id": "_a8ifF2HjVTm"
      }
    },
    {
      "cell_type": "code",
      "source": [
        "# plotting function taken from Moritz Hambach's notebook\n",
        "def plothist(hist):\n",
        "    plt.plot(hist.history['sparse_categorical_accuracy'])\n",
        "    plt.plot(hist.history['val_sparse_categorical_accuracy'])\n",
        "    plt.title('model accuracy')\n",
        "    plt.ylabel('accuracy')\n",
        "    plt.xlabel('epoch')\n",
        "    plt.legend(['train', 'test'], loc='upper left')\n",
        "    plt.show()\n",
        "\n",
        "plothist(historyAugGPU)"
      ],
      "metadata": {
        "id": "rVcULvgCK4Kr",
        "colab": {
          "base_uri": "https://localhost:8080/",
          "height": 295
        },
        "outputId": "afb8a2e8-9435-4873-8fbb-af3ba72717bc"
      },
      "execution_count": null,
      "outputs": [
        {
          "output_type": "display_data",
          "data": {
            "text/plain": [
              "<Figure size 432x288 with 1 Axes>"
            ],
            "image/png": "[encoded data removed]"
          },
          "metadata": {
            "needs_background": "light"
          }
        }
      ]
    },
    {
      "cell_type": "markdown",
      "source": [
        "GPUs really allow for a lot more intensive models which is awesome"
      ],
      "metadata": {
        "id": "RA28pYe4QVDi"
      }
    },
    {
      "cell_type": "markdown",
      "source": [
        "**Now let's try out an LSTM model**"
      ],
      "metadata": {
        "id": "e5y22o1ZBShB"
      }
    },
    {
      "cell_type": "code",
      "source": [
        "print(x_train.shape) # just printing this to show the effect of the reshape below\n",
        "x_train_flat = x_train.reshape(50000, 32, -1) # reshaping training set images to be 2D instead of 3D\n",
        "print(x_train_flat.shape) # just printing this to show the effect of the reshape\n",
        "\n",
        "print(x_test.shape) # just printing this to show the effect of the reshape below\n",
        "x_test_flat = x_test.reshape(10000, 32, -1) # reshaping test set images to be 2D instead of 3D\n",
        "print(x_test_flat.shape) # just printing this to show the effect of the reshape"
      ],
      "metadata": {
        "colab": {
          "base_uri": "https://localhost:8080/"
        },
        "id": "v-v6A9ddIJnD",
        "outputId": "6f951693-a5e3-4652-cb07-a74e19cbf2db"
      },
      "execution_count": 5,
      "outputs": [
        {
          "output_type": "stream",
          "name": "stdout",
          "text": [
            "(50000, 32, 32, 3)\n",
            "(50000, 32, 96)\n",
            "(10000, 32, 32, 3)\n",
            "(10000, 32, 96)\n"
          ]
        }
      ]
    },
    {
      "cell_type": "code",
      "source": [
        "# the Image Data Generator didn't seem to work well with the LSTM model \n",
        "# as such, I'm defining a new augmentation model here which will be applied to our reshaped data\n",
        "dataAug = tf.keras.models.Sequential([\n",
        "    tf.keras.layers.RandomFlip(),\n",
        "    tf.keras.layers.RandomRotation((.1, .3))\n",
        "])\n",
        "\n",
        "x_train_flat_aug = dataAug(x_train_flat) # creating a set of augmented images"
      ],
      "metadata": {
        "id": "6RcXAwtg2mGp"
      },
      "execution_count": 6,
      "outputs": []
    },
    {
      "cell_type": "code",
      "source": [
        "# this cell is unecessary - I used it for easy copy and paste into my LSTM models below\n",
        "# it simply contains code from the past two cells consolidated into one\n",
        "x_train_flat = x_train.reshape(50000, 32, -1)\n",
        "x_test_flat = x_test.reshape(10000, 32, -1)\n",
        "\n",
        "dataAug = tf.keras.models.Sequential([\n",
        "    tf.keras.layers.RandomFlip(),\n",
        "    tf.keras.layers.RandomRotation((.1, .3))\n",
        "])\n",
        "\n",
        "x_train_flat_aug = dataAug(x_train_flat)"
      ],
      "metadata": {
        "id": "5aj2UKVpNdMP"
      },
      "execution_count": 14,
      "outputs": []
    },
    {
      "cell_type": "markdown",
      "source": [
        "**LSTM on CPU w/ CUDNN**"
      ],
      "metadata": {
        "id": "eU0BuMJhY6GU"
      }
    },
    {
      "cell_type": "code",
      "source": [
        "# code to create the LSTM model taken from Dr Y's LSTM notebook\n",
        "\n",
        "batch_size = 256 # using batch size of 256 because it had better performance that batch size of 128\n",
        "input_dim = 32   # CIFAR images are 32x32 - I ended up hardcoding the input shape because I had issues with this variable\n",
        "\n",
        "units = 256       # using 256 units as mentioned in Task 2\n",
        "output_size = 10  # CIFAR labels are from 0 to 9 (10 total)\n",
        "\n",
        "# defining function to build the LSTM model w/ parameter that defaults to using CuDNN kernel but gives option to turn off\n",
        "def build_lstm_model(allow_cudnn_kernel=True):\n",
        "  # CuDNN is only available at the layer level, and not at the cell level.\n",
        "  # This means `LSTM(units)` will use the CuDNN kernel,\n",
        "  # while RNN(LSTMCell(units)) will run on non-CuDNN kernel.\n",
        "  if allow_cudnn_kernel:\n",
        "    # Defining the LSTM layer (using CuDNN kernel)\n",
        "    lstm_layer = tf.keras.layers.LSTM(units, input_shape=(x_train_flat.shape[1:])) # return_sequence=True caused issues so I removed it\n",
        "  else:\n",
        "    # Defining the LSTM layer (not using CuDNN kernel)\n",
        "    lstm_layer = tf.keras.layers.RNN(\n",
        "        tf.keras.layers.LSTMCell(units),\n",
        "        input_shape=(x_train_flat.shape[1:]))\n",
        "  # here we are defining the model using the lstm layer defined above\n",
        "  model = tf.keras.models.Sequential([\n",
        "      lstm_layer,\n",
        "      tf.keras.layers.BatchNormalization(), # normalizing the inputs\n",
        "      tf.keras.layers.Dense(256), # adding a layer of 256 densely connected nodes - this seemed to improve performance\n",
        "      tf.keras.layers.Activation('elu'), # using an elu activation function to remain consistent with CNN model\n",
        "      tf.keras.layers.Dropout(.25), # setting random weights to zero to prevent overfitting\n",
        "      tf.keras.layers.Dense(output_size, activation='softmax')] # using output size = 10 since we have that many classes\n",
        "  )\n",
        "  return model"
      ],
      "metadata": {
        "id": "qQ3NFA22CS9b"
      },
      "execution_count": 13,
      "outputs": []
    },
    {
      "cell_type": "code",
      "source": [
        "lstm_model = build_lstm_model(allow_cudnn_kernel=True) # building the model with the CuDNN kernel\n",
        "\n",
        "# compiling the model with sparse categorical crossentropy/accuracy as our metrics\n",
        "# a smaller learning rate performed better in the LSTM model\n",
        "lstm_model.compile(loss='sparse_categorical_crossentropy', \n",
        "              optimizer=tf.keras.optimizers.Adam(learning_rate=.0001),\n",
        "              metrics=['sparse_categorical_accuracy'])"
      ],
      "metadata": {
        "id": "X1tQqrSECmcJ"
      },
      "execution_count": null,
      "outputs": []
    },
    {
      "cell_type": "code",
      "source": [
        "%%time\n",
        "\n",
        "# fitting the model using the augmented data\n",
        "lstm_model.fit(x_train_flat_aug, y_train.astype(np.float32),\n",
        "          validation_data=(x_test_flat.astype(np.float32), y_test.astype(np.float32)),\n",
        "          batch_size=batch_size, \n",
        "          epochs=10)\n",
        "\n",
        "lstm_model.evaluate(x_test_flat, y_test) # evaluating our performance using the test set"
      ],
      "metadata": {
        "colab": {
          "base_uri": "https://localhost:8080/"
        },
        "id": "FE6e3qe0C0rg",
        "outputId": "85fee257-fe70-4f80-d4c8-f3bec5ad4573"
      },
      "execution_count": null,
      "outputs": [
        {
          "output_type": "stream",
          "name": "stdout",
          "text": [
            "Epoch 1/10\n",
            "196/196 [==============================] - 66s 321ms/step - loss: 2.3556 - sparse_categorical_accuracy: 0.1979 - val_loss: 2.0383 - val_sparse_categorical_accuracy: 0.2599\n",
            "Epoch 2/10\n",
            "196/196 [==============================] - 58s 298ms/step - loss: 2.0811 - sparse_categorical_accuracy: 0.2614 - val_loss: 1.9365 - val_sparse_categorical_accuracy: 0.2975\n",
            "Epoch 3/10\n",
            "196/196 [==============================] - 60s 307ms/step - loss: 1.9705 - sparse_categorical_accuracy: 0.2929 - val_loss: 1.8932 - val_sparse_categorical_accuracy: 0.3075\n",
            "Epoch 4/10\n",
            "196/196 [==============================] - 59s 303ms/step - loss: 1.9154 - sparse_categorical_accuracy: 0.3101 - val_loss: 1.8702 - val_sparse_categorical_accuracy: 0.3283\n",
            "Epoch 5/10\n",
            "196/196 [==============================] - 57s 290ms/step - loss: 1.8853 - sparse_categorical_accuracy: 0.3192 - val_loss: 1.8443 - val_sparse_categorical_accuracy: 0.3313\n",
            "Epoch 6/10\n",
            "196/196 [==============================] - 57s 291ms/step - loss: 1.8378 - sparse_categorical_accuracy: 0.3333 - val_loss: 1.8222 - val_sparse_categorical_accuracy: 0.3368\n",
            "Epoch 7/10\n",
            "196/196 [==============================] - 57s 290ms/step - loss: 1.8163 - sparse_categorical_accuracy: 0.3434 - val_loss: 1.7986 - val_sparse_categorical_accuracy: 0.3439\n",
            "Epoch 8/10\n",
            "196/196 [==============================] - 56s 287ms/step - loss: 1.7882 - sparse_categorical_accuracy: 0.3500 - val_loss: 1.7610 - val_sparse_categorical_accuracy: 0.3638\n",
            "Epoch 9/10\n",
            "196/196 [==============================] - 56s 288ms/step - loss: 1.7608 - sparse_categorical_accuracy: 0.3623 - val_loss: 1.7800 - val_sparse_categorical_accuracy: 0.3536\n",
            "Epoch 10/10\n",
            "196/196 [==============================] - 56s 288ms/step - loss: 1.7562 - sparse_categorical_accuracy: 0.3615 - val_loss: 1.7545 - val_sparse_categorical_accuracy: 0.3667\n",
            "313/313 [==============================] - 11s 30ms/step - loss: 1.7545 - sparse_categorical_accuracy: 0.3667\n",
            "CPU times: user 27min 6s, sys: 1min 43s, total: 28min 49s\n",
            "Wall time: 9min 54s\n"
          ]
        },
        {
          "output_type": "execute_result",
          "data": {
            "text/plain": [
              "[1.7544924020767212, 0.3666999936103821]"
            ]
          },
          "metadata": {},
          "execution_count": 188
        }
      ]
    },
    {
      "cell_type": "markdown",
      "source": [
        "*Results for CPU w/ CuDNN:*\n",
        "* Time to run w/ CuDNN Kernel: ~1 minute per epoch\n",
        "* Total Time to Run: ~10 minutes\n",
        "* Test Accuracy: 36.67%"
      ],
      "metadata": {
        "id": "-p57ORq15RE1"
      }
    },
    {
      "cell_type": "markdown",
      "source": [
        "**LSTM on CPU w/o CUDNN** (didn't realize that CuDNN isn't relevant for CPU)"
      ],
      "metadata": {
        "id": "E1H6C75EZDy2"
      }
    },
    {
      "cell_type": "code",
      "source": [
        "lstm_model = build_lstm_model(allow_cudnn_kernel=False) # building the model without a CuDNN kernel\n",
        "\n",
        "# compiling the model with sparse categorical crossentropy/accuracy as our metrics\n",
        "# a smaller learning rate performed better in the LSTM model\n",
        "lstm_model.compile(loss='sparse_categorical_crossentropy', \n",
        "              optimizer=tf.keras.optimizers.Adam(learning_rate=.0001),\n",
        "              metrics=['sparse_categorical_accuracy'])"
      ],
      "metadata": {
        "id": "A2o7R2Mvz7_z"
      },
      "execution_count": null,
      "outputs": []
    },
    {
      "cell_type": "code",
      "source": [
        "%%time\n",
        "\n",
        "# fitting the model with the augmented data\n",
        "lstm_model.fit(x_train_flat_aug, y_train.astype(np.float32),\n",
        "          validation_data=(x_test_flat.astype(np.float32), y_test.astype(np.float32)),\n",
        "          batch_size=batch_size, \n",
        "          epochs=10)\n",
        "\n",
        "lstm_model.evaluate(x_test_flat, y_test) # evaluating model using the test set"
      ],
      "metadata": {
        "colab": {
          "base_uri": "https://localhost:8080/"
        },
        "outputId": "c12dcd12-7e6c-4a43-b50e-2a218d844159",
        "id": "PH8_tUB7z7_9"
      },
      "execution_count": null,
      "outputs": [
        {
          "output_type": "stream",
          "name": "stdout",
          "text": [
            "Epoch 1/10\n",
            "196/196 [==============================] - 58s 287ms/step - loss: 2.3313 - sparse_categorical_accuracy: 0.2091 - val_loss: 2.0294 - val_sparse_categorical_accuracy: 0.2630\n",
            "Epoch 2/10\n",
            "196/196 [==============================] - 58s 294ms/step - loss: 2.0773 - sparse_categorical_accuracy: 0.2652 - val_loss: 1.9639 - val_sparse_categorical_accuracy: 0.2902\n",
            "Epoch 3/10\n",
            "196/196 [==============================] - 59s 302ms/step - loss: 1.9839 - sparse_categorical_accuracy: 0.2922 - val_loss: 1.9039 - val_sparse_categorical_accuracy: 0.3091\n",
            "Epoch 4/10\n",
            "196/196 [==============================] - 58s 294ms/step - loss: 1.9100 - sparse_categorical_accuracy: 0.3132 - val_loss: 1.8363 - val_sparse_categorical_accuracy: 0.3365\n",
            "Epoch 5/10\n",
            "196/196 [==============================] - 56s 286ms/step - loss: 1.8681 - sparse_categorical_accuracy: 0.3291 - val_loss: 1.8105 - val_sparse_categorical_accuracy: 0.3418\n",
            "Epoch 6/10\n",
            "196/196 [==============================] - 58s 294ms/step - loss: 1.8327 - sparse_categorical_accuracy: 0.3363 - val_loss: 1.7918 - val_sparse_categorical_accuracy: 0.3492\n",
            "Epoch 7/10\n",
            "196/196 [==============================] - 57s 291ms/step - loss: 1.8016 - sparse_categorical_accuracy: 0.3493 - val_loss: 1.7710 - val_sparse_categorical_accuracy: 0.3611\n",
            "Epoch 8/10\n",
            "196/196 [==============================] - 57s 292ms/step - loss: 1.7833 - sparse_categorical_accuracy: 0.3543 - val_loss: 1.7709 - val_sparse_categorical_accuracy: 0.3573\n",
            "Epoch 9/10\n",
            "196/196 [==============================] - 58s 295ms/step - loss: 1.7573 - sparse_categorical_accuracy: 0.3666 - val_loss: 1.7466 - val_sparse_categorical_accuracy: 0.3679\n",
            "Epoch 10/10\n",
            "196/196 [==============================] - 57s 292ms/step - loss: 1.7357 - sparse_categorical_accuracy: 0.3684 - val_loss: 1.7357 - val_sparse_categorical_accuracy: 0.3732\n",
            "313/313 [==============================] - 10s 31ms/step - loss: 1.7357 - sparse_categorical_accuracy: 0.3732\n",
            "CPU times: user 27min 12s, sys: 1min 31s, total: 28min 44s\n",
            "Wall time: 10min 33s\n"
          ]
        },
        {
          "output_type": "execute_result",
          "data": {
            "text/plain": [
              "[1.735719084739685, 0.373199999332428]"
            ]
          },
          "metadata": {},
          "execution_count": 190
        }
      ]
    },
    {
      "cell_type": "markdown",
      "source": [
        "*Results for CPU w/o CuDNN:*\n",
        "* Time to run w/ CuDNN Kernel: ~1 minute per epoch\n",
        "* Total Time to Run: 10.5 minutes\n",
        "* Test Accuracy: 37.32%\n",
        "\n",
        "I now realize that CuDNN is only applicable when running GPU. Oh well"
      ],
      "metadata": {
        "id": "HYCtrMLm5VAz"
      }
    },
    {
      "cell_type": "markdown",
      "source": [
        "**LSTM on GPU w/ CUDNN**"
      ],
      "metadata": {
        "id": "IRWTD6aGY-XP"
      }
    },
    {
      "cell_type": "code",
      "source": [
        "lstm_model_gpu = build_lstm_model(allow_cudnn_kernel=True) # building the model with the CuDNN kernel\n",
        "\n",
        "# compiling the model with sparse categorical crossentropy/accuracy as our metrics\n",
        "# a smaller learning rate performed better in the LSTM model\n",
        "lstm_model_gpu.compile(loss='sparse_categorical_crossentropy', \n",
        "              optimizer=tf.keras.optimizers.Adam(learning_rate=.0001),\n",
        "              metrics=['sparse_categorical_accuracy'])"
      ],
      "metadata": {
        "id": "MdMlQk4bcAaP"
      },
      "execution_count": null,
      "outputs": []
    },
    {
      "cell_type": "code",
      "source": [
        "%%time\n",
        "\n",
        "# fitting the model to the augmented dataset\n",
        "lstm_model_gpu.fit(x_train_flat_aug, y_train.astype(np.float32),\n",
        "          validation_data=(x_test_flat.astype(np.float32), y_test.astype(np.float32)),\n",
        "          batch_size=batch_size, \n",
        "          epochs=10)\n",
        "\n",
        "lstm_model_gpu.evaluate(x_test_flat, y_test) # evaluating performance on the test set"
      ],
      "metadata": {
        "colab": {
          "base_uri": "https://localhost:8080/"
        },
        "outputId": "ad5cb57d-0321-4330-c024-a7cad5ae91b2",
        "id": "AmEyZWoxcAai"
      },
      "execution_count": null,
      "outputs": [
        {
          "output_type": "stream",
          "name": "stdout",
          "text": [
            "Epoch 1/10\n",
            "196/196 [==============================] - 4s 10ms/step - loss: 2.3042 - sparse_categorical_accuracy: 0.2082 - val_loss: 2.0121 - val_sparse_categorical_accuracy: 0.2662\n",
            "Epoch 2/10\n",
            "196/196 [==============================] - 1s 8ms/step - loss: 2.0507 - sparse_categorical_accuracy: 0.2718 - val_loss: 1.9071 - val_sparse_categorical_accuracy: 0.2973\n",
            "Epoch 3/10\n",
            "196/196 [==============================] - 1s 8ms/step - loss: 1.9422 - sparse_categorical_accuracy: 0.3009 - val_loss: 1.8615 - val_sparse_categorical_accuracy: 0.3179\n",
            "Epoch 4/10\n",
            "196/196 [==============================] - 1s 8ms/step - loss: 1.8880 - sparse_categorical_accuracy: 0.3195 - val_loss: 1.8297 - val_sparse_categorical_accuracy: 0.3351\n",
            "Epoch 5/10\n",
            "196/196 [==============================] - 1s 8ms/step - loss: 1.8339 - sparse_categorical_accuracy: 0.3352 - val_loss: 1.7925 - val_sparse_categorical_accuracy: 0.3491\n",
            "Epoch 6/10\n",
            "196/196 [==============================] - 2s 8ms/step - loss: 1.8006 - sparse_categorical_accuracy: 0.3435 - val_loss: 1.7765 - val_sparse_categorical_accuracy: 0.3509\n",
            "Epoch 7/10\n",
            "196/196 [==============================] - 1s 8ms/step - loss: 1.7717 - sparse_categorical_accuracy: 0.3536 - val_loss: 1.7703 - val_sparse_categorical_accuracy: 0.3521\n",
            "Epoch 8/10\n",
            "196/196 [==============================] - 2s 8ms/step - loss: 1.7535 - sparse_categorical_accuracy: 0.3621 - val_loss: 1.7354 - val_sparse_categorical_accuracy: 0.3690\n",
            "Epoch 9/10\n",
            "196/196 [==============================] - 2s 8ms/step - loss: 1.7356 - sparse_categorical_accuracy: 0.3673 - val_loss: 1.7193 - val_sparse_categorical_accuracy: 0.3802\n",
            "Epoch 10/10\n",
            "196/196 [==============================] - 2s 8ms/step - loss: 1.7116 - sparse_categorical_accuracy: 0.3760 - val_loss: 1.7081 - val_sparse_categorical_accuracy: 0.3706\n",
            "313/313 [==============================] - 1s 3ms/step - loss: 1.7081 - sparse_categorical_accuracy: 0.3706\n",
            "CPU times: user 26.1 s, sys: 2.47 s, total: 28.6 s\n",
            "Wall time: 18.9 s\n"
          ]
        },
        {
          "output_type": "execute_result",
          "data": {
            "text/plain": [
              "[1.7080812454223633, 0.37059998512268066]"
            ]
          },
          "metadata": {},
          "execution_count": 124
        }
      ]
    },
    {
      "cell_type": "markdown",
      "source": [
        "*Results for GPU w/ CuDNN:*\n",
        "* Time to run w/ CuDNN Kernel: ~2 seconds per epoch \n",
        "* Total Time to Run: ~20 seconds\n",
        "* Test Accuracy: 37.06%"
      ],
      "metadata": {
        "id": "NVc-f_fEkVlT"
      }
    },
    {
      "cell_type": "markdown",
      "source": [
        "**LSTM on GPU w/o CUDNN**"
      ],
      "metadata": {
        "id": "mQeDAQQwZJ35"
      }
    },
    {
      "cell_type": "code",
      "source": [
        "lstm_model_gpu = build_lstm_model(allow_cudnn_kernel=False) # building model without CuDNN kernel\n",
        "\n",
        "# compiling the model with sparse categorical crossentropy/accuracy as our metrics\n",
        "# a smaller learning rate performed better in the LSTM model\n",
        "lstm_model_gpu.compile(loss='sparse_categorical_crossentropy', \n",
        "              optimizer=tf.keras.optimizers.Adam(learning_rate=.0001),\n",
        "              metrics=['sparse_categorical_accuracy'])"
      ],
      "metadata": {
        "id": "xES3esJogfyb"
      },
      "execution_count": null,
      "outputs": []
    },
    {
      "cell_type": "code",
      "source": [
        "%%time\n",
        "\n",
        "# fitting the model using augmented dataset\n",
        "lstm_model_gpu.fit(x_train_flat_aug, y_train.astype(np.float32),\n",
        "          validation_data=(x_test_flat.astype(np.float32), y_test.astype(np.float32)),\n",
        "          batch_size=batch_size, \n",
        "          epochs=10)\n",
        "\n",
        "lstm_model_gpu.evaluate(x_test_flat, y_test) # evaluating performance against the test set"
      ],
      "metadata": {
        "colab": {
          "base_uri": "https://localhost:8080/"
        },
        "outputId": "b8b74b66-0ce0-41d6-f4b7-62d6e442bfe9",
        "id": "_M6CcC47gfyq"
      },
      "execution_count": null,
      "outputs": [
        {
          "output_type": "stream",
          "name": "stdout",
          "text": [
            "Epoch 1/10\n",
            "196/196 [==============================] - 11s 47ms/step - loss: 2.3277 - sparse_categorical_accuracy: 0.2009 - val_loss: 2.0397 - val_sparse_categorical_accuracy: 0.2634\n",
            "Epoch 2/10\n",
            "196/196 [==============================] - 9s 45ms/step - loss: 2.0717 - sparse_categorical_accuracy: 0.2668 - val_loss: 1.9318 - val_sparse_categorical_accuracy: 0.3023\n",
            "Epoch 3/10\n",
            "196/196 [==============================] - 9s 45ms/step - loss: 1.9696 - sparse_categorical_accuracy: 0.2911 - val_loss: 1.8706 - val_sparse_categorical_accuracy: 0.3216\n",
            "Epoch 4/10\n",
            "196/196 [==============================] - 9s 46ms/step - loss: 1.9133 - sparse_categorical_accuracy: 0.3079 - val_loss: 1.8488 - val_sparse_categorical_accuracy: 0.3350\n",
            "Epoch 5/10\n",
            "196/196 [==============================] - 9s 44ms/step - loss: 1.8548 - sparse_categorical_accuracy: 0.3288 - val_loss: 1.8225 - val_sparse_categorical_accuracy: 0.3354\n",
            "Epoch 6/10\n",
            "196/196 [==============================] - 9s 45ms/step - loss: 1.8276 - sparse_categorical_accuracy: 0.3376 - val_loss: 1.7974 - val_sparse_categorical_accuracy: 0.3525\n",
            "Epoch 7/10\n",
            "196/196 [==============================] - 9s 44ms/step - loss: 1.7988 - sparse_categorical_accuracy: 0.3497 - val_loss: 1.7806 - val_sparse_categorical_accuracy: 0.3558\n",
            "Epoch 8/10\n",
            "196/196 [==============================] - 9s 45ms/step - loss: 1.7705 - sparse_categorical_accuracy: 0.3570 - val_loss: 1.7636 - val_sparse_categorical_accuracy: 0.3618\n",
            "Epoch 9/10\n",
            "196/196 [==============================] - 9s 45ms/step - loss: 1.7473 - sparse_categorical_accuracy: 0.3667 - val_loss: 1.7610 - val_sparse_categorical_accuracy: 0.3622\n",
            "Epoch 10/10\n",
            "196/196 [==============================] - 9s 44ms/step - loss: 1.7287 - sparse_categorical_accuracy: 0.3693 - val_loss: 1.7343 - val_sparse_categorical_accuracy: 0.3719\n",
            "313/313 [==============================] - 3s 8ms/step - loss: 1.7343 - sparse_categorical_accuracy: 0.3719\n",
            "CPU times: user 3min 15s, sys: 29.9 s, total: 3min 45s\n",
            "Wall time: 1min 32s\n"
          ]
        },
        {
          "output_type": "execute_result",
          "data": {
            "text/plain": [
              "[1.73432457447052, 0.3718999922275543]"
            ]
          },
          "metadata": {},
          "execution_count": 126
        }
      ]
    },
    {
      "cell_type": "markdown",
      "source": [
        "*Results for GPU w/o CuDNN:*\n",
        "* Time to run w/p CuDNN Kernel: ~9 seconds per epoch\n",
        "* Total time to run w/o CuDNN Kernel: ~1.5 minutes\n",
        "* Test Accuracy: 37.19%\n",
        "\n",
        "Much slower than when using the CuDNN kernel"
      ],
      "metadata": {
        "id": "QJvbW4JvkQGz"
      }
    },
    {
      "cell_type": "markdown",
      "metadata": {
        "id": "9YWXVBMr02yp"
      },
      "source": [
        "# Task 3\n",
        "Run the LSTM solution in Task2 on a TPU and report the performance "
      ]
    },
    {
      "cell_type": "code",
      "source": [
        "try:\n",
        "  resolver = tf.distribute.cluster_resolver.TPUClusterResolver()  # detecting the TPU\n",
        "  print('Running on TPU', resolver.cluster_spec().as_dict()['worker']) # print statement for debugging\n",
        "except ValueError:\n",
        "  raise BaseException('ERROR: Not connected to a TPU runtime') # this exception will be raised if not connected to a TPU runtime\n",
        "tf.config.experimental_connect_to_cluster(resolver) # connecting to the identified cluster\n",
        "tf.tpu.experimental.initialize_tpu_system(resolver) # initializing the TPU \n",
        "strategy = tf.distribute.TPUStrategy(resolver) # defining strategy, the scope of which will allow us to train on the TPU\n",
        "print(\"All devices: \", tf.config.list_logical_devices('TPU')) # print for debugging and knowledge purposes\n",
        "with strategy.scope(): # this allows the following indented code to be run on the TPU\n",
        "  # loading CIFAR 10 dataset\n",
        "  (x_train, y_train), (x_test, y_test) = cifar10.load_data()\n",
        "  # flattening inputs for the LSTM\n",
        "  x_train_flat = x_train.reshape(50000, 32, -1)\n",
        "  x_test_flat = x_test.reshape(10000, 32, -1)\n",
        "  # defining the data augmentation we want to implement\n",
        "  dataAug = tf.keras.models.Sequential([\n",
        "    tf.keras.layers.RandomFlip(),\n",
        "    tf.keras.layers.RandomRotation((.1, .3))\n",
        "  ])\n",
        "  # fitting training set to the data augmentation\n",
        "  x_train_flat_aug = dataAug(x_train_flat)\n",
        "  x_test_flat_aug = dataAug(x_test_flat)\n",
        "  # building the model using the predefined function\n",
        "  model = build_lstm_model(allow_cudnn_kernel=True)\n",
        "  # compiling the model with sparse categorical crossentropy/accuracy as our metrics\n",
        "  # a smaller learning rate performed better in the LSTM model\n",
        "  model.compile(\n",
        "      optimizer=tf.keras.optimizers.Adam(learning_rate=.0001),\n",
        "      loss='sparse_categorical_crossentropy',\n",
        "      metrics=['sparse_categorical_accuracy'])\n",
        "  # fitting the model to the augmented training data\n",
        "  model.fit(x_train_flat_aug, y_train.astype(np.float32),\n",
        "          validation_data=(x_test_flat_aug, y_test.astype(np.float32)),\n",
        "          batch_size=batch_size, \n",
        "          epochs=10,\n",
        "          steps_per_epoch=196)\n",
        "\n",
        "  model.evaluate(x_test_flat, y_test) # evaluating the perfomance of the model on the test set"
      ],
      "metadata": {
        "id": "UFX9InXmME9n",
        "colab": {
          "base_uri": "https://localhost:8080/"
        },
        "outputId": "a5deb514-c2c9-49d3-95b9-ec04c76cb5d9"
      },
      "execution_count": 16,
      "outputs": [
        {
          "output_type": "stream",
          "name": "stdout",
          "text": [
            "Running on TPU ['10.114.34.250:8470']\n"
          ]
        },
        {
          "output_type": "stream",
          "name": "stderr",
          "text": [
            "WARNING:tensorflow:TPU system grpc://10.114.34.250:8470 has already been initialized. Reinitializing the TPU can cause previously created variables on TPU to be lost.\n"
          ]
        },
        {
          "output_type": "stream",
          "name": "stdout",
          "text": [
            "All devices:  [LogicalDevice(name='/job:worker/replica:0/task:0/device:TPU:0', device_type='TPU'), LogicalDevice(name='/job:worker/replica:0/task:0/device:TPU:1', device_type='TPU'), LogicalDevice(name='/job:worker/replica:0/task:0/device:TPU:2', device_type='TPU'), LogicalDevice(name='/job:worker/replica:0/task:0/device:TPU:3', device_type='TPU'), LogicalDevice(name='/job:worker/replica:0/task:0/device:TPU:4', device_type='TPU'), LogicalDevice(name='/job:worker/replica:0/task:0/device:TPU:5', device_type='TPU'), LogicalDevice(name='/job:worker/replica:0/task:0/device:TPU:6', device_type='TPU'), LogicalDevice(name='/job:worker/replica:0/task:0/device:TPU:7', device_type='TPU')]\n",
            "Epoch 1/10\n",
            "196/196 [==============================] - 14s 42ms/step - loss: 2.2707 - sparse_categorical_accuracy: 0.2065 - val_loss: 2.0250 - val_sparse_categorical_accuracy: 0.2598\n",
            "Epoch 2/10\n",
            "196/196 [==============================] - 5s 26ms/step - loss: 2.0565 - sparse_categorical_accuracy: 0.2649 - val_loss: 1.9394 - val_sparse_categorical_accuracy: 0.2919\n",
            "Epoch 3/10\n",
            "196/196 [==============================] - 5s 26ms/step - loss: 1.9590 - sparse_categorical_accuracy: 0.2922 - val_loss: 1.8894 - val_sparse_categorical_accuracy: 0.3130\n",
            "Epoch 4/10\n",
            "196/196 [==============================] - 5s 26ms/step - loss: 1.9062 - sparse_categorical_accuracy: 0.3082 - val_loss: 1.8615 - val_sparse_categorical_accuracy: 0.3243\n",
            "Epoch 5/10\n",
            "196/196 [==============================] - 5s 25ms/step - loss: 1.8584 - sparse_categorical_accuracy: 0.3221 - val_loss: 1.8323 - val_sparse_categorical_accuracy: 0.3401\n",
            "Epoch 6/10\n",
            "196/196 [==============================] - 5s 26ms/step - loss: 1.8262 - sparse_categorical_accuracy: 0.3379 - val_loss: 1.7936 - val_sparse_categorical_accuracy: 0.3546\n",
            "Epoch 7/10\n",
            "196/196 [==============================] - 5s 27ms/step - loss: 1.7947 - sparse_categorical_accuracy: 0.3486 - val_loss: 1.7842 - val_sparse_categorical_accuracy: 0.3575\n",
            "Epoch 8/10\n",
            "196/196 [==============================] - 6s 29ms/step - loss: 1.7783 - sparse_categorical_accuracy: 0.3537 - val_loss: 1.7709 - val_sparse_categorical_accuracy: 0.3596\n",
            "Epoch 9/10\n",
            "196/196 [==============================] - 5s 26ms/step - loss: 1.7568 - sparse_categorical_accuracy: 0.3613 - val_loss: 1.7630 - val_sparse_categorical_accuracy: 0.3622\n",
            "Epoch 10/10\n",
            "196/196 [==============================] - 5s 27ms/step - loss: 1.7390 - sparse_categorical_accuracy: 0.3664 - val_loss: 1.7351 - val_sparse_categorical_accuracy: 0.3719\n",
            "313/313 [==============================] - 9s 21ms/step - loss: 1.7355 - sparse_categorical_accuracy: 0.3715\n"
          ]
        }
      ]
    },
    {
      "cell_type": "markdown",
      "source": [
        "Testing once more using %%time"
      ],
      "metadata": {
        "id": "4R8Xdnsz6oVI"
      }
    },
    {
      "cell_type": "code",
      "source": [
        "%%time\n",
        "\n",
        "# fitting the model to the augmented training set\n",
        "model.fit(x_train_flat_aug, y_train.astype(np.float32),\n",
        "          validation_data=(x_test_flat_aug, y_test.astype(np.float32)),\n",
        "          batch_size=batch_size, \n",
        "          epochs=10,\n",
        "          steps_per_epoch=196)\n",
        "\n",
        "model.evaluate(x_test_flat, y_test) # evaluating the model against the test set"
      ],
      "metadata": {
        "colab": {
          "base_uri": "https://localhost:8080/"
        },
        "id": "jFz0geEMTZwn",
        "outputId": "4ca2bceb-4f5b-4956-fc06-863b6cc3d2a8"
      },
      "execution_count": 12,
      "outputs": [
        {
          "output_type": "stream",
          "name": "stdout",
          "text": [
            "Epoch 1/10\n",
            "196/196 [==============================] - 14s 42ms/step - loss: 2.3153 - sparse_categorical_accuracy: 0.1981 - val_loss: 2.0426 - val_sparse_categorical_accuracy: 0.2716\n",
            "Epoch 2/10\n",
            "196/196 [==============================] - 5s 25ms/step - loss: 2.0571 - sparse_categorical_accuracy: 0.2665 - val_loss: 1.9478 - val_sparse_categorical_accuracy: 0.2969\n",
            "Epoch 3/10\n",
            "196/196 [==============================] - 5s 25ms/step - loss: 1.9633 - sparse_categorical_accuracy: 0.2942 - val_loss: 1.8880 - val_sparse_categorical_accuracy: 0.3157\n",
            "Epoch 4/10\n",
            "196/196 [==============================] - 5s 25ms/step - loss: 1.9071 - sparse_categorical_accuracy: 0.3117 - val_loss: 1.8634 - val_sparse_categorical_accuracy: 0.3307\n",
            "Epoch 5/10\n",
            "196/196 [==============================] - 6s 28ms/step - loss: 1.8718 - sparse_categorical_accuracy: 0.3211 - val_loss: 1.8513 - val_sparse_categorical_accuracy: 0.3323\n",
            "Epoch 6/10\n",
            "196/196 [==============================] - 5s 25ms/step - loss: 1.8354 - sparse_categorical_accuracy: 0.3325 - val_loss: 1.8210 - val_sparse_categorical_accuracy: 0.3399\n",
            "Epoch 7/10\n",
            "196/196 [==============================] - 5s 25ms/step - loss: 1.8096 - sparse_categorical_accuracy: 0.3426 - val_loss: 1.7949 - val_sparse_categorical_accuracy: 0.3531\n",
            "Epoch 8/10\n",
            "196/196 [==============================] - 5s 25ms/step - loss: 1.7932 - sparse_categorical_accuracy: 0.3461 - val_loss: 1.7944 - val_sparse_categorical_accuracy: 0.3537\n",
            "Epoch 9/10\n",
            "196/196 [==============================] - 5s 25ms/step - loss: 1.7794 - sparse_categorical_accuracy: 0.3520 - val_loss: 1.7705 - val_sparse_categorical_accuracy: 0.3643\n",
            "Epoch 10/10\n",
            "196/196 [==============================] - 6s 33ms/step - loss: 1.7572 - sparse_categorical_accuracy: 0.3593 - val_loss: 1.7598 - val_sparse_categorical_accuracy: 0.3605\n",
            "313/313 [==============================] - 8s 19ms/step - loss: 1.7595 - sparse_categorical_accuracy: 0.3612\n",
            "CPU times: user 30.9 s, sys: 4.1 s, total: 35 s\n",
            "Wall time: 1min 9s\n"
          ]
        },
        {
          "output_type": "execute_result",
          "data": {
            "text/plain": [
              "[1.759548544883728, 0.3612000048160553]"
            ]
          },
          "metadata": {},
          "execution_count": 12
        }
      ]
    },
    {
      "cell_type": "markdown",
      "source": [
        "*Results for TPU:*\n",
        "* Time to run: ~5 seconds per epoch\n",
        "* Total time to run: ~1 minute\n",
        "* Test Accuracy: 36.12%\n",
        "\n",
        "Surprised that the CuDNN GPU model is faster than the TPU - pretty cool to see how fast the CuDNN kernel is on LSTMs"
      ],
      "metadata": {
        "id": "MlIvMrW4TxVk"
      }
    }
  ],
  "metadata": {
    "colab": {
      "collapsed_sections": [],
      "provenance": []
    },
    "kernelspec": {
      "display_name": "Python 3.9.12",
      "language": "python",
      "name": "python3"
    },
    "language_info": {
      "codemirror_mode": {
        "name": "ipython",
        "version": 3
      },
      "file_extension": ".py",
      "mimetype": "text/x-python",
      "name": "python",
      "nbconvert_exporter": "python",
      "pygments_lexer": "ipython3",
      "version": "3.9.12"
    },
    "vscode": {
      "interpreter": {
        "hash": "58f68c893d27d44de5f329b5c78da41b4997af8d492e4e8bd7c62547c498f83b"
      }
    },
    "accelerator": "TPU",
    "gpuClass": "premium"
  },
  "nbformat": 4,
  "nbformat_minor": 0
}